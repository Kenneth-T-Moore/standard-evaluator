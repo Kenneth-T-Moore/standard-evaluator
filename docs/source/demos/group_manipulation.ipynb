{
 "cells": [
  {
   "cell_type": "markdown",
   "metadata": {},
   "source": [
    "We now show how we can change the assembly by just editing the JSON file. We will drop the characteristic_length class since its output are not connected to another component, and also re-order the components in the assembly. The idea is that in the first instance we want to show how to remove an unused component if the study we want to do does not leverage any responses from this component.\n",
    "\n",
    "This is an example of how we can now manipulate the creation of an OpenMDAO assembly purely via the JSON file. For example, we could develop a GUI that creates the JSON file, or write a converter that takes the structure assembled in ModelCenter or even Cameo and then instantiate the OpenMDAO model from that. Demonstrating these ideas is not part of this contract."
   ]
  },
  {
   "cell_type": "code",
   "execution_count": 1,
   "metadata": {
    "metadata": {}
   },
   "outputs": [],
   "source": [
    "import json_numpy\n",
    "import copy\n",
    "file_name = 'demo_group_NASA.json'\n",
    "with open(file_name, \"r\") as infile:\n",
    "    full_info = json_numpy.load(infile)"
   ]
  },
  {
   "cell_type": "code",
   "execution_count": 2,
   "metadata": {
    "metadata": {}
   },
   "outputs": [
    {
     "name": "stdout",
     "output_type": "stream",
     "text": [
      "['fuselage_prelim', 'wing_prelim', 'prelim', 'wing', 'tail', 'fuselage', 'nacelles', 'canard', 'characteristic_lengths', 'total_wetted_area']\n"
     ]
    }
   ],
   "source": [
    "new_info = copy.deepcopy(full_info)\n",
    "# Show which components make up the prep_geom group\n",
    "print(new_info['components']['prep_geom']['component_order'])\n",
    "# Delete the 'characteristic_lengths' component from the order list.\n",
    "del(new_info['components']['prep_geom']['component_order'][-2])\n",
    "# We also want to move the 'nacelles' and 'canard' components to the start of the assembly\n",
    "new_info['components']['prep_geom']['component_order'] =['nacelles', 'canard', 'fuselage_prelim', 'wing_prelim', 'prelim', 'wing', 'tail', 'fuselage', 'total_wetted_area']\n",
    "\n",
    "# We now also delete the 'characteristic_lengths' component completely from the assembly\n",
    "del(new_info['components']['prep_geom']['components']['characteristic_lengths'])\n",
    "# We also need to delete the promotions. Note that we have to do this both for the 'prep_geom' group and the overall model.\n",
    "del(new_info['components']['prep_geom']['promotions']['characteristic_lengths'])\n",
    "del(new_info['promotions']['prep_geom'][3])\n",
    "del(new_info['promotions']['prep_geom'][4])\n",
    "del(new_info['promotions']['prep_geom'][77:89])\n",
    "\n",
    "# Delete the entry in the linkage for a variable from 'characteristic_lenghts'\n",
    "del(new_info['components']['prep_geom']['linkage'][-1])\n",
    "# Delete the input variables for 'characteristic_lenghts'. \n",
    "del(new_info['components']['prep_geom']['inputs'][3])\n",
    "del(new_info['components']['prep_geom']['inputs'][3])\n",
    "del(new_info['inputs'][3])\n",
    "del(new_info['inputs'][3])\n",
    "# Delete the outputs from 'characteristic_lenghts'.\n",
    "del(new_info['outputs'][40])\n",
    "del(new_info['outputs'][1:13])\n",
    "del(new_info['components']['prep_geom']['outputs'][1:13])"
   ]
  },
  {
   "cell_type": "code",
   "execution_count": 3,
   "metadata": {
    "metadata": {}
   },
   "outputs": [],
   "source": [
    "new_file_name = \"after.json\"\n",
    "with open(new_file_name, \"w\") as outfile:\n",
    "        json_numpy.dump(new_info, outfile, indent=4)\n"
   ]
  }
 ],
 "metadata": {
  "kernelspec": {
   "display_name": "Python 3 (ipykernel)",
   "language": "python",
   "name": "python3"
  },
  "language_info": {
   "codemirror_mode": {
    "name": "ipython",
    "version": 3
   },
   "file_extension": ".py",
   "mimetype": "text/x-python",
   "name": "python",
   "nbconvert_exporter": "python",
   "pygments_lexer": "ipython3",
   "version": "3.9.7"
  }
 },
 "nbformat": 4,
 "nbformat_minor": 4
}
