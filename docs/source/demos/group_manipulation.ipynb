{
 "cells": [
  {
   "cell_type": "markdown",
   "metadata": {},
   "source": [
    "We now show how we can change the assembly by just editing the JSON file. We will drop the characteristic_length class since its output are not connected to another component, and also re-order the components in the assembly. The idea is that in the first instance we want to show how to remove an unused component if the study we want to do does not leverage any responses from this component.\n",
    "\n",
    "This is an example of how we can now manipulate the creation of an OpenMDAO assembly purely via the JSON file. For example, we could develop a GUI that creates the JSON file, or write a converter that takes the structure assembled in ModelCenter or even Cameo and then instantiate the OpenMDAO model from that. Demonstrating these ideas is not part of this contract."
   ]
  },
  {
   "cell_type": "code",
   "execution_count": 1,
   "metadata": {
    "metadata": {}
   },
   "outputs": [],
   "source": [
    "import json_numpy\n",
    "import copy\n",
    "file_name = 'demo_group.json'\n",
    "with open(file_name, \"r\") as infile:\n",
    "    full_info = json_numpy.load(infile)"
   ]
  },
  {
   "cell_type": "code",
   "execution_count": 2,
   "metadata": {
    "metadata": {}
   },
   "outputs": [
    {
     "name": "stdout",
     "output_type": "stream",
     "text": [
      "['fuselage_prelim', 'wing_prelim', 'prelim', 'wing', 'tail', 'fuselage', 'nacelles', 'canard', 'characteristic_lengths', 'total_wetted_area']\n"
     ]
    }
   ],
   "source": [
    "new_info = copy.deepcopy(full_info)\n",
    "# Show which components make up the prep_geom group\n",
    "print(new_info['components']['prep_geom']['component_order'])\n",
    "# Delete the 'characteristic_lengths' component from the order list.\n",
    "del(new_info['components']['prep_geom']['component_order'][-2])\n",
    "# We also want to move the 'nacelles' and 'canard' components to the start of the assembly\n",
    "new_info['components']['prep_geom']['component_order'] =['nacelles', 'canard', 'fuselage_prelim', 'wing_prelim', 'prelim', 'wing', 'tail', 'fuselage', 'total_wetted_area']\n",
    "\n",
    "# We now also delete the 'characteristic_lengths' component completely from the assembly\n",
    "del(new_info['components']['prep_geom']['components']['characteristic_lengths'])\n",
    "# We also need to delete the promotions. Note that we have to do this both for the 'prep_geom' group and the overall model.\n",
    "del(new_info['components']['prep_geom']['promotions']['characteristic_lengths'])\n",
    "del(new_info['promotions']['prep_geom'][3])\n",
    "del(new_info['promotions']['prep_geom'][4])\n",
    "del(new_info['promotions']['prep_geom'][77:89])\n",
    "\n",
    "# Delete the entry in the linkage for a variable from 'characteristic_lenghts'\n",
    "del(new_info['components']['prep_geom']['linkage'][-1])\n",
    "# Delete the input variables for 'characteristic_lenghts'. \n",
    "del(new_info['components']['prep_geom']['inputs'][3])\n",
    "del(new_info['components']['prep_geom']['inputs'][3])\n",
    "del(new_info['inputs'][3])\n",
    "del(new_info['inputs'][3])\n",
    "# Delete the outputs from 'characteristic_lenghts'.\n",
    "del(new_info['outputs'][40])\n",
    "del(new_info['outputs'][1:13])\n",
    "del(new_info['components']['prep_geom']['outputs'][1:13])"
   ]
  },
  {
   "cell_type": "code",
   "execution_count": 3,
   "metadata": {
    "metadata": {}
   },
   "outputs": [],
   "source": [
    "new_file_name = \"after.json\"\n",
    "with open(new_file_name, \"w\") as outfile:\n",
    "        json_numpy.dump(new_info, outfile, indent=4)\n"
   ]
  },
  {
   "cell_type": "code",
   "execution_count": 4,
   "metadata": {
    "metadata": {}
   },
   "outputs": [
    {
     "name": "stdout",
     "output_type": "stream",
     "text": [
      "** This is a group, special handling needed for prep_geom in group \n",
      "Adding nacelles component\n",
      "Building class nacelles\n",
      "Importing class Nacelles from aviary.subsystems.geometry.flops_based.nacelle\n",
      "Adding canard component\n",
      "Building class canard\n",
      "Importing class Canard from aviary.subsystems.geometry.flops_based.canard\n",
      "Adding fuselage_prelim component\n",
      "Building class fuselage_prelim\n",
      "Importing class FuselagePrelim from aviary.subsystems.geometry.flops_based.fuselage\n",
      "Adding wing_prelim component\n",
      "Building class wing_prelim\n",
      "Importing class WingPrelim from aviary.subsystems.geometry.flops_based.wing\n",
      "Adding prelim component\n",
      "Building class prelim\n",
      "Importing class _Prelim from aviary.subsystems.geometry.flops_based.prep_geom\n",
      "Adding wing component\n",
      "Building class wing\n",
      "Importing class _Wing from aviary.subsystems.geometry.flops_based.prep_geom\n",
      "Adding tail component\n",
      "Building class tail\n",
      "Importing class _Tail from aviary.subsystems.geometry.flops_based.prep_geom\n",
      "Adding fuselage component\n",
      "Building class fuselage\n",
      "Importing class _Fuselage from aviary.subsystems.geometry.flops_based.prep_geom\n",
      "Adding total_wetted_area component\n",
      "Building class total_wetted_area\n",
      "Importing class TotalWettedArea from aviary.subsystems.geometry.flops_based.wetted_area_total\n"
     ]
    }
   ],
   "source": [
    "from  standard_evaluator import load_assembly\n",
    "# Now loading the structure and state from these files\n",
    "new_problem = load_assembly(assembly_name=new_file_name, state_name='state.h5')\n"
   ]
  },
  {
   "cell_type": "code",
   "execution_count": 5,
   "metadata": {
    "metadata": {}
   },
   "outputs": [
    {
     "name": "stdout",
     "output_type": "stream",
     "text": [
      "59 Input(s) in 'model'\n",
      "\n",
      "varname                                              val           units     shape  prom_name                                      \n",
      "---------------------------------------------------  ------------  --------  -----  -----------------------------------------------\n",
      "prep_geom\n",
      "  nacelles\n",
      "    aircraft:nacelle:avg_diameter                    [12.]         ft        (1,)   aircraft:nacelle:avg_diameter                  \n",
      "    aircraft:nacelle:avg_length                      [23.]         ft        (1,)   aircraft:nacelle:avg_length                    \n",
      "    aircraft:nacelle:wetted_area_scaler              [0.]          unitless  (1,)   aircraft:nacelle:wetted_area_scaler            \n",
      "  canard\n",
      "    aircraft:canard:area                             [3.]          ft**2     (1,)   aircraft:canard:area                           \n",
      "    aircraft:canard:thickness_to_chord               [0.3]         unitless  (1,)   aircraft:canard:thickness_to_chord             \n",
      "    aircraft:canard:wetted_area_scaler               [0.8]         unitless  (1,)   aircraft:canard:wetted_area_scaler             \n",
      "  fuselage_prelim\n",
      "    aircraft:fuselage:length                         [0.]          ft        (1,)   aircraft:fuselage:length                       \n",
      "    aircraft:fuselage:max_height                     [0.]          ft        (1,)   aircraft:fuselage:max_height                   \n",
      "    aircraft:fuselage:max_width                      [0.]          ft        (1,)   aircraft:fuselage:max_width                    \n",
      "  wing_prelim\n",
      "    aircraft:wing:area                               [0.]          ft**2     (1,)   aircraft:wing:area                             \n",
      "    aircraft:wing:glove_and_bat                      [0.]          ft**2     (1,)   aircraft:wing:glove_and_bat                    \n",
      "    aircraft:wing:span                               [0.]          ft        (1,)   aircraft:wing:span                             \n",
      "  prelim\n",
      "    aircraft:fuselage:avg_diameter                   [0.]          ft        (1,)   aircraft:fuselage:avg_diameter                 \n",
      "    aircraft:fuselage:max_width                      [0.]          ft        (1,)   aircraft:fuselage:max_width                    \n",
      "    aircraft:horizontal_tail:area                    [0.]          ft**2     (1,)   aircraft:horizontal_tail:area                  \n",
      "    aircraft:horizontal_tail:aspect_ratio            [0.8]         unitless  (1,)   aircraft:horizontal_tail:aspect_ratio          \n",
      "    aircraft:horizontal_tail:taper_ratio             [0.8]         unitless  (1,)   aircraft:horizontal_tail:taper_ratio           \n",
      "    aircraft:horizontal_tail:thickness_to_chord      [0.]          unitless  (1,)   aircraft:horizontal_tail:thickness_to_chord    \n",
      "    aircraft:vertical_tail:area                      [0.]          ft**2     (1,)   aircraft:vertical_tail:area                    \n",
      "    aircraft:vertical_tail:aspect_ratio              [0.]          unitless  (1,)   aircraft:vertical_tail:aspect_ratio            \n",
      "    aircraft:vertical_tail:taper_ratio               [0.8]         unitless  (1,)   aircraft:vertical_tail:taper_ratio             \n",
      "    aircraft:vertical_tail:thickness_to_chord        [0.]          unitless  (1,)   aircraft:vertical_tail:thickness_to_chord      \n",
      "    aircraft:wing:area                               [0.]          ft**2     (1,)   aircraft:wing:area                             \n",
      "    aircraft:wing:glove_and_bat                      [0.]          ft**2     (1,)   aircraft:wing:glove_and_bat                    \n",
      "    aircraft:wing:span                               [0.]          ft        (1,)   aircraft:wing:span                             \n",
      "    aircraft:wing:taper_ratio                        [0.8]         unitless  (1,)   aircraft:wing:taper_ratio                      \n",
      "    aircraft:wing:thickness_to_chord                 [0.]          unitless  (1,)   aircraft:wing:thickness_to_chord               \n",
      "  wing\n",
      "    prep_geom:_Names:CROOT                           [0.21972222]  unitless  (1,)   wing.prep_geom:_Names:CROOT                    \n",
      "    prep_geom:_Names:CROOTB                          [0.16479167]  unitless  (1,)   wing.prep_geom:_Names:CROOTB                   \n",
      "    prep_geom:_Names:XDX                             [15.]         unitless  (1,)   wing.prep_geom:_Names:XDX                      \n",
      "    prep_geom:_Names:XMULT                           [2.]          unitless  (1,)   wing.prep_geom:_Names:XMULT                    \n",
      "    aircraft:wing:area                               [0.]          ft**2     (1,)   aircraft:wing:area                             \n",
      "    aircraft:wing:wetted_area_scaler                 [1.]          unitless  (1,)   aircraft:wing:wetted_area_scaler               \n",
      "  tail\n",
      "    prep_geom:_Names:XMULTH                          [2.1935]      unitless  (1,)   tail.prep_geom:_Names:XMULTH                   \n",
      "    prep_geom:_Names:XMULTV                          [2.]          unitless  (1,)   tail.prep_geom:_Names:XMULTV                   \n",
      "    aircraft:horizontal_tail:area                    [0.]          ft**2     (1,)   aircraft:horizontal_tail:area                  \n",
      "    aircraft:horizontal_tail:vertical_tail_fraction  [0.]          unitless  (1,)   aircraft:horizontal_tail:vertical_tail_fraction\n",
      "    aircraft:horizontal_tail:wetted_area_scaler      [1.]          unitless  (1,)   aircraft:horizontal_tail:wetted_area_scaler    \n",
      "    aircraft:vertical_tail:area                      [0.]          ft**2     (1,)   aircraft:vertical_tail:area                    \n",
      "    aircraft:vertical_tail:wetted_area_scaler        [1.]          unitless  (1,)   aircraft:vertical_tail:wetted_area_scaler      \n",
      "  fuselage\n",
      "    prep_geom:_Names:CROOTB                          [0.16479167]  unitless  (1,)   fuselage.prep_geom:_Names:CROOTB               \n",
      "    prep_geom:_Names:CROTVT                          [0.]          unitless  (1,)   fuselage.prep_geom:_Names:CROTVT               \n",
      "    prep_geom:_Names:CRTHTB                          [4.81919191]  unitless  (1,)   fuselage.prep_geom:_Names:CRTHTB               \n",
      "    aircraft:fuselage:avg_diameter                   [0.]          ft        (1,)   aircraft:fuselage:avg_diameter                 \n",
      "    aircraft:fuselage:length                         [0.]          ft        (1,)   aircraft:fuselage:length                       \n",
      "    aircraft:fuselage:wetted_area_scaler             [1.]          unitless  (1,)   aircraft:fuselage:wetted_area_scaler           \n",
      "    aircraft:horizontal_tail:thickness_to_chord      [0.]          unitless  (1,)   aircraft:horizontal_tail:thickness_to_chord    \n",
      "    aircraft:horizontal_tail:vertical_tail_fraction  [0.]          unitless  (1,)   aircraft:horizontal_tail:vertical_tail_fraction\n",
      "    aircraft:vertical_tail:thickness_to_chord        [0.]          unitless  (1,)   aircraft:vertical_tail:thickness_to_chord      \n",
      "    aircraft:wing:area                               [0.]          ft**2     (1,)   aircraft:wing:area                             \n",
      "    aircraft:wing:aspect_ratio                       [0.]          unitless  (1,)   aircraft:wing:aspect_ratio                     \n",
      "    aircraft:wing:glove_and_bat                      [0.]          ft**2     (1,)   aircraft:wing:glove_and_bat                    \n",
      "    aircraft:wing:thickness_to_chord                 [0.]          unitless  (1,)   aircraft:wing:thickness_to_chord               \n",
      "  total_wetted_area\n",
      "    aircraft:canard:wetted_area                      [0.]          ft**2     (1,)   aircraft:canard:wetted_area                    \n",
      "    aircraft:fuselage:wetted_area                    [0.]          ft**2     (1,)   aircraft:fuselage:wetted_area                  \n",
      "    aircraft:horizontal_tail:wetted_area             [0.]          ft**2     (1,)   aircraft:horizontal_tail:wetted_area           \n",
      "    aircraft:nacelle:total_wetted_area               [0.]          ft**2     (1,)   aircraft:nacelle:total_wetted_area             \n",
      "    aircraft:vertical_tail:wetted_area               [0.]          ft**2     (1,)   aircraft:vertical_tail:wetted_area             \n",
      "    aircraft:wing:wetted_area                        [0.]          ft**2     (1,)   aircraft:wing:wetted_area                      \n",
      "\n",
      "\n"
     ]
    }
   ],
   "source": [
    "_ = new_problem.model.list_inputs(shape=True, units=True)\n",
    "\n",
    "new_problem.run_model()"
   ]
  },
  {
   "cell_type": "code",
   "execution_count": 6,
   "metadata": {
    "metadata": {}
   },
   "outputs": [
    {
     "name": "stdout",
     "output_type": "stream",
     "text": [
      "25 Explicit Output(s) in 'model'\n",
      "\n",
      "varname                                      val              shape  prom_name                              \n",
      "-------------------------------------------  ---------------  -----  ---------------------------------------\n",
      "prep_geom\n",
      "  nacelles\n",
      "    aircraft:nacelle:total_wetted_area       [0.]             (1,)   aircraft:nacelle:total_wetted_area     \n",
      "    aircraft:nacelle:wetted_area             [0.]             (1,)   aircraft:nacelle:wetted_area           \n",
      "  canard\n",
      "    aircraft:canard:wetted_area              [5.07864]        (1,)   aircraft:canard:wetted_area            \n",
      "  fuselage_prelim\n",
      "    aircraft:fuselage:avg_diameter           [15.]            (1,)   aircraft:fuselage:avg_diameter         \n",
      "    aircraft:fuselage:planform_area          [3600.]          (1,)   aircraft:fuselage:planform_area        \n",
      "  wing_prelim\n",
      "    aircraft:wing:aspect_ratio               [60.68268015]    (1,)   aircraft:wing:aspect_ratio             \n",
      "  prelim\n",
      "    prep_geom:_Names:CROOT                   [0.21972222]     (1,)   prelim.prep_geom:_Names:CROOT          \n",
      "    prep_geom:_Names:CROOTB                  [0.16479167]     (1,)   prelim.prep_geom:_Names:CROOTB         \n",
      "    prep_geom:_Names:CROTM                   [0.75]           (1,)   prelim.prep_geom:_Names:CROTM          \n",
      "    prep_geom:_Names:CROTVT                  [0.]             (1,)   prelim.prep_geom:_Names:CROTVT         \n",
      "    prep_geom:_Names:CRTHTB                  [4.81919191]     (1,)   prelim.prep_geom:_Names:CRTHTB         \n",
      "    prep_geom:_Names:SPANHT                  [3.09838668]     (1,)   prelim.prep_geom:_Names:SPANHT         \n",
      "    prep_geom:_Names:SPANVT                  [0.]             (1,)   prelim.prep_geom:_Names:SPANVT         \n",
      "    prep_geom:_Names:XDX                     [15.]            (1,)   prelim.prep_geom:_Names:XDX            \n",
      "    prep_geom:_Names:XMULT                   [2.]             (1,)   prelim.prep_geom:_Names:XMULT          \n",
      "    prep_geom:_Names:XMULTH                  [2.1935]         (1,)   prelim.prep_geom:_Names:XMULTH         \n",
      "    prep_geom:_Names:XMULTV                  [2.]             (1,)   prelim.prep_geom:_Names:XMULTV         \n",
      "  wing\n",
      "    aircraft:wing:wetted_area                [-0.02170833]    (1,)   aircraft:wing:wetted_area              \n",
      "  tail\n",
      "    aircraft:horizontal_tail:wetted_area     [19.794144]      (1,)   aircraft:horizontal_tail:wetted_area   \n",
      "    aircraft:vertical_tail:wetted_area       [24.]            (1,)   aircraft:vertical_tail:wetted_area     \n",
      "  fuselage\n",
      "    aircraft:fuselage:cross_section          [176.71458676]   (1,)   aircraft:fuselage:cross_section        \n",
      "    aircraft:fuselage:diameter_to_wing_span  [1.25]           (1,)   aircraft:fuselage:diameter_to_wing_span\n",
      "    aircraft:fuselage:length_to_diameter     [8.]             (1,)   aircraft:fuselage:length_to_diameter   \n",
      "    aircraft:fuselage:wetted_area            [4437.57742348]  (1,)   aircraft:fuselage:wetted_area          \n",
      "  total_wetted_area\n",
      "    aircraft:design:total_wetted_area        [4486.42849915]  (1,)   aircraft:design:total_wetted_area      \n",
      "\n",
      "\n",
      "0 Implicit Output(s) in 'model'\n",
      "\n",
      "\n"
     ]
    }
   ],
   "source": [
    "_ = new_problem.model.list_outputs(shape=True)"
   ]
  },
  {
   "cell_type": "code",
   "execution_count": 7,
   "metadata": {
    "metadata": {}
   },
   "outputs": [],
   "source": [
    "import openmdao.api as om\n",
    "\n",
    "om.n2(new_problem, 'after.n2.html', display_in_notebook=False,  )\n"
   ]
  }
 ],
 "metadata": {
  "kernelspec": {
   "display_name": "Python 3 (ipykernel)",
   "language": "python",
   "name": "python3"
  },
  "language_info": {
   "codemirror_mode": {
    "name": "ipython",
    "version": 3
   },
   "file_extension": ".py",
   "mimetype": "text/x-python",
   "name": "python",
   "nbconvert_exporter": "python",
   "pygments_lexer": "ipython3",
   "version": "3.9.7"
  }
 },
 "nbformat": 4,
 "nbformat_minor": 4
}
